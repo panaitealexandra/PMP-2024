{
  "nbformat": 4,
  "nbformat_minor": 0,
  "metadata": {
    "colab": {
      "provenance": [],
      "authorship_tag": "ABX9TyNZ/du6+pD1U7UH7LQM8fhS",
      "include_colab_link": true
    },
    "kernelspec": {
      "name": "python3",
      "display_name": "Python 3"
    },
    "language_info": {
      "name": "python"
    }
  },
  "cells": [
    {
      "cell_type": "markdown",
      "metadata": {
        "id": "view-in-github",
        "colab_type": "text"
      },
      "source": [
        "<a href=\"https://colab.research.google.com/github/panaitealexandra/PMP-2024/blob/main/Lab5.ipynb\" target=\"_parent\"><img src=\"https://colab.research.google.com/assets/colab-badge.svg\" alt=\"Open In Colab\"/></a>"
      ]
    },
    {
      "cell_type": "markdown",
      "source": [
        "Se dau teste de diferite dificultati: dificil, mediu, si usor. Exista probabilitati de tranzitie intre dificultati, in functie de dificultatea testului anterior:\n",
        "\n",
        "Daca un test este dificil, urmatorul poate fi doar mediu sau usor, fiecare cu o probabilitate de 0,5.\n",
        "Daca un test este mediu, urmatorul poate fi dificil cu probabilitatea 0,25, mediu cu probabilitatea 0,5, si usor cu probabilitatea 0,25.\n",
        "Daca un test este usor, urmatorul poate fi dificil cu probabilitatea 0,2, mediu cu probabilitatea 0,3, si usor cu probabilitatea 0,4.\n",
        "Notele unui student (FB, B, S, sau NS) depind de dificultatea testului:\n",
        "\n",
        "Pentru test dificil: [0,2, 0,3, 0,4, 0,1] pentru fiecare nota.\n",
        "\n",
        "Pentru test mediu: [0,15, 0,25, 0,5, 0,1].\n",
        "\n",
        "Pentru test usor: [0,2, 0,3, 0,4, 0,1].\n",
        "\n",
        "a) Folosind hmmlearn, sa definim modelul Markov ascuns si sa desenam diagrama de stare.\n",
        "\n",
        "b) Sa calculam cea mai probabila secventa de dificultati pentru o secventa de note data: FB, FB, S, B, B, S, B, B, NS, B, S.\n",
        "\n",
        "Raspuns:\n",
        "\n",
        "Definirea Modelului Markov Ascuns folosind hmmlearn Pentru a defini modelul, avem nevoie de:\n",
        "\n",
        "Matricea de tranzitie intre starile de dificultate:\n",
        "\n",
        "Dificil -> [0, 0.5, 0.5]\n",
        "Mediu -> [0.25, 0.5, 0.25]\n",
        "Usor -> [0.2, 0.3, 0.4]\n",
        "Matricea de emisie, bazata pe probabilitatile de notare in functie de dificultatea testului:\n",
        "\n",
        "Pentru Dificil: [0.2, 0.3, 0.4, 0.1]\n",
        "Pentru Mediu: [0.15, 0.25, 0.5, 0.1]\n",
        "Pentru Usor: [0.2, 0.3, 0.4, 0.1]\n",
        "Vectorul de probabilitati initiale (presupunem ca probabilitatile pentru primul test sunt egale):[1/3, 1/3, 1/3]\n",
        "\n",
        "\n",
        "\n",
        "\n",
        "\n",
        "\n",
        "\n",
        "\n",
        "\n",
        "\n"
      ],
      "metadata": {
        "id": "vmj6lgkrE_Tc"
      }
    },
    {
      "cell_type": "code",
      "source": [
        "!pip install hmmlearn"
      ],
      "metadata": {
        "colab": {
          "base_uri": "https://localhost:8080/"
        },
        "id": "BG-UHyFjI6hD",
        "outputId": "1e167e36-1358-496e-af20-759b6ee2515a"
      },
      "execution_count": 2,
      "outputs": [
        {
          "output_type": "stream",
          "name": "stdout",
          "text": [
            "Collecting hmmlearn\n",
            "  Downloading hmmlearn-0.3.2-cp310-cp310-manylinux_2_17_x86_64.manylinux2014_x86_64.whl.metadata (2.9 kB)\n",
            "Requirement already satisfied: numpy>=1.10 in /usr/local/lib/python3.10/dist-packages (from hmmlearn) (1.26.4)\n",
            "Requirement already satisfied: scikit-learn!=0.22.0,>=0.16 in /usr/local/lib/python3.10/dist-packages (from hmmlearn) (1.5.2)\n",
            "Requirement already satisfied: scipy>=0.19 in /usr/local/lib/python3.10/dist-packages (from hmmlearn) (1.13.1)\n",
            "Requirement already satisfied: joblib>=1.2.0 in /usr/local/lib/python3.10/dist-packages (from scikit-learn!=0.22.0,>=0.16->hmmlearn) (1.4.2)\n",
            "Requirement already satisfied: threadpoolctl>=3.1.0 in /usr/local/lib/python3.10/dist-packages (from scikit-learn!=0.22.0,>=0.16->hmmlearn) (3.5.0)\n",
            "Downloading hmmlearn-0.3.2-cp310-cp310-manylinux_2_17_x86_64.manylinux2014_x86_64.whl (161 kB)\n",
            "\u001b[2K   \u001b[90m━━━━━━━━━━━━━━━━━━━━━━━━━━━━━━━━━━━━━━━━\u001b[0m \u001b[32m161.1/161.1 kB\u001b[0m \u001b[31m2.8 MB/s\u001b[0m eta \u001b[36m0:00:00\u001b[0m\n",
            "\u001b[?25hInstalling collected packages: hmmlearn\n",
            "Successfully installed hmmlearn-0.3.2\n"
          ]
        }
      ]
    },
    {
      "cell_type": "code",
      "execution_count": 5,
      "metadata": {
        "colab": {
          "base_uri": "https://localhost:8080/"
        },
        "id": "4rtrNh-BESgv",
        "outputId": "3f7b71de-cfa2-4c3b-ba5c-ed42d1b81eb2"
      },
      "outputs": [
        {
          "output_type": "stream",
          "name": "stdout",
          "text": [
            "Cea mai probabila secventa de dificultati: ['Usor', 'Usor', 'Usor', 'Usor', 'Usor', 'Usor', 'Usor', 'Usor', 'Usor', 'Usor', 'Usor']\n"
          ]
        }
      ],
      "source": [
        "import numpy as np\n",
        "from hmmlearn import hmm\n",
        "\n",
        "states = [\"Dificil\", \"Mediu\", \"Usor\"]\n",
        "n_states = len(states)\n",
        "\n",
        "observations = [\"FB\", \"B\", \"S\", \"NS\"]\n",
        "n_observations = len(observations)\n",
        "\n",
        "transition_matrix = [\n",
        "    [0.0, 0.5, 0.5],\n",
        "    [0.25, 0.5, 0.25],\n",
        "    [0.2, 0.3, 0.5]\n",
        "]\n",
        "\n",
        "emission_matrix = [\n",
        "    [0.2, 0.3, 0.4, 0.1],\n",
        "    [0.15, 0.25, 0.5, 0.1],\n",
        "    [0.2, 0.3, 0.4, 0.1]\n",
        "]\n",
        "\n",
        "start_probability = [1/3, 1/3, 1/3]\n",
        "\n",
        "model = hmm.CategoricalHMM(n_components=n_states, init_params=\"\")\n",
        "model.startprob_ = start_probability\n",
        "model.transmat_ = transition_matrix\n",
        "model.emissionprob_ = emission_matrix\n",
        "\n",
        "observations_map = {obs: idx for idx, obs in enumerate(observations)}\n",
        "sequence = [observations_map[note] for note in [\"FB\", \"FB\", \"S\", \"B\", \"B\", \"S\", \"B\", \"B\", \"NS\", \"B\", \"S\"]]\n",
        "\n",
        "logprob, state_sequence = model.decode(np.array(sequence).reshape(-1, 1), algorithm=\"viterbi\")\n",
        "\n",
        "most_probable_sequence = [states[state] for state in state_sequence]\n",
        "print(\"Cea mai probabila secventa de dificultati:\", most_probable_sequence)\n"
      ]
    }
  ]
}